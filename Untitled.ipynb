{
 "cells": [
  {
   "cell_type": "code",
   "execution_count": 109,
   "id": "29a7c4c9",
   "metadata": {},
   "outputs": [],
   "source": [
    "from sklearn.datasets import make_classification\n",
    "import numpy as np\n",
    "import matplotlib.pyplot as plt\n",
    "X, Y = make_classification(n_samples=100, n_features=2, n_informative=1,n_redundant=0,\n",
    "                           n_classes=2, n_clusters_per_class=1, random_state=41,hypercube=False,class_sep=30)"
   ]
  },
  {
   "cell_type": "code",
   "execution_count": 110,
   "id": "bc2187e1",
   "metadata": {},
   "outputs": [
    {
     "data": {
      "text/plain": [
       "array([1, 1, 1, 0, 1, 0, 0, 1, 1, 0, 0, 0, 1, 1, 0, 1, 1, 0, 1, 0, 0, 0,\n",
       "       0, 1, 0, 1, 0, 0, 0, 0, 0, 1, 1, 1, 1, 1, 0, 1, 0, 1, 0, 0, 0, 1,\n",
       "       0, 1, 1, 0, 0, 0, 1, 1, 0, 1, 1, 0, 1, 0, 0, 1, 1, 0, 0, 1, 1, 1,\n",
       "       0, 1, 0, 0, 0, 1, 1, 0, 1, 1, 0, 1, 0, 1, 1, 1, 0, 1, 1, 0, 0, 0,\n",
       "       1, 0, 1, 1, 0, 0, 1, 0, 0, 0, 1, 1])"
      ]
     },
     "execution_count": 110,
     "metadata": {},
     "output_type": "execute_result"
    }
   ],
   "source": [
    "Y"
   ]
  },
  {
   "cell_type": "code",
   "execution_count": 111,
   "id": "58c71e37",
   "metadata": {},
   "outputs": [
    {
     "data": {
      "text/plain": [
       "array([[ 0.82321545, -0.11697552],\n",
       "       [ 0.37514771, -0.73115232],\n",
       "       [ 0.26947761, -0.7081059 ],\n",
       "       [-4.98744874, -2.01199214],\n",
       "       [ 0.4231285 ,  1.63493163],\n",
       "       [-4.2289949 ,  0.15599044],\n",
       "       [-5.18865382,  1.07782053],\n",
       "       [ 0.7096287 ,  0.80626713],\n",
       "       [ 0.06531501,  0.74859527],\n",
       "       [-5.3563263 ,  0.75152794],\n",
       "       [-5.17487315, -0.90114581],\n",
       "       [-5.17644221, -0.1815243 ],\n",
       "       [ 0.60202649, -2.98092432],\n",
       "       [ 1.42960231,  1.20500136],\n",
       "       [-5.22359581,  0.78302407],\n",
       "       [ 1.01127528,  0.42968688],\n",
       "       [ 0.48288133, -0.73229726],\n",
       "       [-5.27614308, -0.83930476],\n",
       "       [ 0.44163889,  0.83727062],\n",
       "       [-5.167179  , -0.10255323],\n",
       "       [-5.67316396,  0.65867001],\n",
       "       [-5.4617787 ,  0.92649819],\n",
       "       [-4.71348919,  0.10216193],\n",
       "       [ 2.2344006 ,  0.46886454],\n",
       "       [-4.61308761,  0.45432938],\n",
       "       [ 1.2379403 ,  1.8613386 ],\n",
       "       [-5.18419324, -0.79255991],\n",
       "       [-4.43807529, -1.0004391 ],\n",
       "       [-5.79725951, -0.53814137],\n",
       "       [-5.2004182 ,  0.44027716],\n",
       "       [-4.83733981,  0.27047889],\n",
       "       [ 1.97386778, -0.75869267],\n",
       "       [ 0.84916967,  0.6802322 ],\n",
       "       [ 1.16085327,  0.17018845],\n",
       "       [ 1.17880259, -1.01121977],\n",
       "       [ 0.30218616, -0.8394709 ],\n",
       "       [-4.38479615,  0.90327412],\n",
       "       [ 1.29791605,  1.16981747],\n",
       "       [-5.00571959,  0.53461406],\n",
       "       [ 1.38123994, -0.22100631],\n",
       "       [-4.72249744, -0.64584571],\n",
       "       [-4.3144166 ,  0.21243302],\n",
       "       [-4.75236514,  0.98654083],\n",
       "       [ 2.09266459,  0.67382928],\n",
       "       [-4.20199081, -0.11323563],\n",
       "       [ 1.70456616,  0.91694693],\n",
       "       [ 0.77064127,  0.3645213 ],\n",
       "       [-4.76982916, -0.78470874],\n",
       "       [-4.49400457, -1.48004137],\n",
       "       [-4.31675844,  0.72931763],\n",
       "       [ 0.84417313, -0.60000139],\n",
       "       [ 0.2724388 ,  0.14720034],\n",
       "       [-4.81794035,  0.35215601],\n",
       "       [ 1.5681211 ,  0.17388705],\n",
       "       [ 2.76884991, -0.17162755],\n",
       "       [-4.92357904,  0.03763193],\n",
       "       [ 1.6587612 ,  0.48360467],\n",
       "       [-5.45209503, -0.07909256],\n",
       "       [-4.72899763,  0.06158897],\n",
       "       [ 0.51781758, -1.20413846],\n",
       "       [ 1.52307394,  0.77324391],\n",
       "       [-4.71811061,  0.7640092 ],\n",
       "       [-5.36148038,  1.57200032],\n",
       "       [ 1.59496586,  0.47296516],\n",
       "       [ 0.67604511,  0.0642074 ],\n",
       "       [-0.03997184,  1.52469135],\n",
       "       [-5.29035087, -2.1450828 ],\n",
       "       [ 1.2181126 , -0.7701428 ],\n",
       "       [-4.94919891,  0.84455766],\n",
       "       [-4.39646397,  1.29753064],\n",
       "       [-5.79322619, -0.84276652],\n",
       "       [ 0.89934238,  2.0615874 ],\n",
       "       [ 1.6963056 , -0.3036533 ],\n",
       "       [-4.85432248, -0.1656085 ],\n",
       "       [ 1.69064258,  1.16969713],\n",
       "       [ 1.29895144, -0.3038555 ],\n",
       "       [-5.57912927, -0.4788978 ],\n",
       "       [ 1.58791915,  0.28128262],\n",
       "       [-4.71216938,  0.70412341],\n",
       "       [ 1.3398283 ,  0.3757601 ],\n",
       "       [ 0.46210146,  0.97247545],\n",
       "       [ 1.965837  ,  0.56868381],\n",
       "       [-4.8568141 , -0.39767934],\n",
       "       [ 2.00042293, -1.08933729],\n",
       "       [ 0.26626073, -1.81663939],\n",
       "       [-5.26063707,  1.41775924],\n",
       "       [-5.17923048,  0.27098296],\n",
       "       [-4.58586185, -0.56186639],\n",
       "       [ 0.89051645,  0.42168159],\n",
       "       [-4.68467426, -2.95373116],\n",
       "       [ 1.37560282,  0.19492133],\n",
       "       [ 1.78651052, -0.04578681],\n",
       "       [-4.55548423, -0.18860967],\n",
       "       [-4.88352055,  0.44635682],\n",
       "       [ 1.37689618, -1.49814775],\n",
       "       [-5.51991084,  0.66198774],\n",
       "       [-4.93258184,  0.07153265],\n",
       "       [-4.85693082,  0.32323638],\n",
       "       [ 1.46023382, -0.34574201],\n",
       "       [ 0.35826174,  0.06499922]])"
      ]
     },
     "execution_count": 111,
     "metadata": {},
     "output_type": "execute_result"
    }
   ],
   "source": [
    "X"
   ]
  },
  {
   "cell_type": "code",
   "execution_count": 112,
   "id": "5e7f9189",
   "metadata": {},
   "outputs": [],
   "source": [
    "# X = np.insert(X,0,1,axis=1) # it will create the two column into three column"
   ]
  },
  {
   "cell_type": "code",
   "execution_count": 113,
   "id": "eb97a6eb",
   "metadata": {},
   "outputs": [
    {
     "data": {
      "text/plain": [
       "array([[ 0.82321545, -0.11697552],\n",
       "       [ 0.37514771, -0.73115232],\n",
       "       [ 0.26947761, -0.7081059 ],\n",
       "       [-4.98744874, -2.01199214],\n",
       "       [ 0.4231285 ,  1.63493163],\n",
       "       [-4.2289949 ,  0.15599044],\n",
       "       [-5.18865382,  1.07782053],\n",
       "       [ 0.7096287 ,  0.80626713],\n",
       "       [ 0.06531501,  0.74859527],\n",
       "       [-5.3563263 ,  0.75152794],\n",
       "       [-5.17487315, -0.90114581],\n",
       "       [-5.17644221, -0.1815243 ],\n",
       "       [ 0.60202649, -2.98092432],\n",
       "       [ 1.42960231,  1.20500136],\n",
       "       [-5.22359581,  0.78302407],\n",
       "       [ 1.01127528,  0.42968688],\n",
       "       [ 0.48288133, -0.73229726],\n",
       "       [-5.27614308, -0.83930476],\n",
       "       [ 0.44163889,  0.83727062],\n",
       "       [-5.167179  , -0.10255323],\n",
       "       [-5.67316396,  0.65867001],\n",
       "       [-5.4617787 ,  0.92649819],\n",
       "       [-4.71348919,  0.10216193],\n",
       "       [ 2.2344006 ,  0.46886454],\n",
       "       [-4.61308761,  0.45432938],\n",
       "       [ 1.2379403 ,  1.8613386 ],\n",
       "       [-5.18419324, -0.79255991],\n",
       "       [-4.43807529, -1.0004391 ],\n",
       "       [-5.79725951, -0.53814137],\n",
       "       [-5.2004182 ,  0.44027716],\n",
       "       [-4.83733981,  0.27047889],\n",
       "       [ 1.97386778, -0.75869267],\n",
       "       [ 0.84916967,  0.6802322 ],\n",
       "       [ 1.16085327,  0.17018845],\n",
       "       [ 1.17880259, -1.01121977],\n",
       "       [ 0.30218616, -0.8394709 ],\n",
       "       [-4.38479615,  0.90327412],\n",
       "       [ 1.29791605,  1.16981747],\n",
       "       [-5.00571959,  0.53461406],\n",
       "       [ 1.38123994, -0.22100631],\n",
       "       [-4.72249744, -0.64584571],\n",
       "       [-4.3144166 ,  0.21243302],\n",
       "       [-4.75236514,  0.98654083],\n",
       "       [ 2.09266459,  0.67382928],\n",
       "       [-4.20199081, -0.11323563],\n",
       "       [ 1.70456616,  0.91694693],\n",
       "       [ 0.77064127,  0.3645213 ],\n",
       "       [-4.76982916, -0.78470874],\n",
       "       [-4.49400457, -1.48004137],\n",
       "       [-4.31675844,  0.72931763],\n",
       "       [ 0.84417313, -0.60000139],\n",
       "       [ 0.2724388 ,  0.14720034],\n",
       "       [-4.81794035,  0.35215601],\n",
       "       [ 1.5681211 ,  0.17388705],\n",
       "       [ 2.76884991, -0.17162755],\n",
       "       [-4.92357904,  0.03763193],\n",
       "       [ 1.6587612 ,  0.48360467],\n",
       "       [-5.45209503, -0.07909256],\n",
       "       [-4.72899763,  0.06158897],\n",
       "       [ 0.51781758, -1.20413846],\n",
       "       [ 1.52307394,  0.77324391],\n",
       "       [-4.71811061,  0.7640092 ],\n",
       "       [-5.36148038,  1.57200032],\n",
       "       [ 1.59496586,  0.47296516],\n",
       "       [ 0.67604511,  0.0642074 ],\n",
       "       [-0.03997184,  1.52469135],\n",
       "       [-5.29035087, -2.1450828 ],\n",
       "       [ 1.2181126 , -0.7701428 ],\n",
       "       [-4.94919891,  0.84455766],\n",
       "       [-4.39646397,  1.29753064],\n",
       "       [-5.79322619, -0.84276652],\n",
       "       [ 0.89934238,  2.0615874 ],\n",
       "       [ 1.6963056 , -0.3036533 ],\n",
       "       [-4.85432248, -0.1656085 ],\n",
       "       [ 1.69064258,  1.16969713],\n",
       "       [ 1.29895144, -0.3038555 ],\n",
       "       [-5.57912927, -0.4788978 ],\n",
       "       [ 1.58791915,  0.28128262],\n",
       "       [-4.71216938,  0.70412341],\n",
       "       [ 1.3398283 ,  0.3757601 ],\n",
       "       [ 0.46210146,  0.97247545],\n",
       "       [ 1.965837  ,  0.56868381],\n",
       "       [-4.8568141 , -0.39767934],\n",
       "       [ 2.00042293, -1.08933729],\n",
       "       [ 0.26626073, -1.81663939],\n",
       "       [-5.26063707,  1.41775924],\n",
       "       [-5.17923048,  0.27098296],\n",
       "       [-4.58586185, -0.56186639],\n",
       "       [ 0.89051645,  0.42168159],\n",
       "       [-4.68467426, -2.95373116],\n",
       "       [ 1.37560282,  0.19492133],\n",
       "       [ 1.78651052, -0.04578681],\n",
       "       [-4.55548423, -0.18860967],\n",
       "       [-4.88352055,  0.44635682],\n",
       "       [ 1.37689618, -1.49814775],\n",
       "       [-5.51991084,  0.66198774],\n",
       "       [-4.93258184,  0.07153265],\n",
       "       [-4.85693082,  0.32323638],\n",
       "       [ 1.46023382, -0.34574201],\n",
       "       [ 0.35826174,  0.06499922]])"
      ]
     },
     "execution_count": 113,
     "metadata": {},
     "output_type": "execute_result"
    }
   ],
   "source": [
    "X # (data , column name ,number which you want to insert)"
   ]
  },
  {
   "cell_type": "code",
   "execution_count": 114,
   "id": "1e1a3f0f",
   "metadata": {},
   "outputs": [
    {
     "data": {
      "text/plain": [
       "<matplotlib.collections.PathCollection at 0x188c0a84460>"
      ]
     },
     "execution_count": 114,
     "metadata": {},
     "output_type": "execute_result"
    },
    {
     "data": {
      "image/png": "[encoded data removed]",
      "text/plain": [
       "<Figure size 720x432 with 1 Axes>"
      ]
     },
     "metadata": {
      "needs_background": "light"
     },
     "output_type": "display_data"
    }
   ],
   "source": [
    "plt.figure(figsize=(10,6)) # it will create the size of the figure\n",
    "plt.scatter(X[:,0],X[:,1],c=y,cmap='winter',s=100) # it plot hte given data(camp for color,s for the size of the dots)"
   ]
  },
  {
   "cell_type": "code",
   "execution_count": 115,
   "id": "6f0575f1",
   "metadata": {},
   "outputs": [],
   "source": [
    "def perceptron(X,Y):\n",
    "    \n",
    "    X = np.insert(X,0,1,axis=1)\n",
    "    weights = np.ones(X.shape[1])\n",
    "    lr = 0.1\n",
    "    \n",
    "    for i in range(10000):\n",
    "        j = np.random.randint(0,100) # it wiil select the student from the given data\n",
    "        y_hat = step(np.dot(X[j],weights)) # it take tha value either negative or positive\n",
    "        weights = weights + lr*(y[j]-y_hat)*X[j] # it will update the w in the given data\n",
    "        \n",
    "    return weights[0],weights[1:]\n",
    "        "
   ]
  },
  {
   "cell_type": "code",
   "execution_count": 116,
   "id": "a6309914",
   "metadata": {},
   "outputs": [],
   "source": [
    "def step(z):\n",
    "    return 1 if z>0 else 0"
   ]
  },
  {
   "cell_type": "code",
   "execution_count": 117,
   "id": "59b0e05f",
   "metadata": {},
   "outputs": [],
   "source": [
    "intercept_,coef_ = perceptron(X,Y)"
   ]
  },
  {
   "cell_type": "code",
   "execution_count": 118,
   "id": "62413921",
   "metadata": {},
   "outputs": [
    {
     "name": "stdout",
     "output_type": "stream",
     "text": [
      "[1.1204053  0.40381514]\n",
      "1.2000000000000002\n"
     ]
    }
   ],
   "source": [
    "print(coef_) # W1\n",
    "print(intercept_) # W2 and 1.1 is Wo"
   ]
  },
  {
   "cell_type": "code",
   "execution_count": 119,
   "id": "7f65b123",
   "metadata": {},
   "outputs": [],
   "source": [
    "m = -(coef_[0]/coef_[1]) # m = -A/B\n",
    "b = -(intercept_/coef_[1])# c = -c/B"
   ]
  },
  {
   "cell_type": "code",
   "execution_count": 120,
   "id": "9e55a7ff",
   "metadata": {},
   "outputs": [],
   "source": [
    "x_input = np.linspace(-3,3,100)\n",
    "y_input = m*x_input + b"
   ]
  },
  {
   "cell_type": "code",
   "execution_count": 121,
   "id": "68b70222",
   "metadata": {},
   "outputs": [
    {
     "data": {
      "text/plain": [
       "(-3.0, 2.0)"
      ]
     },
     "execution_count": 121,
     "metadata": {},
     "output_type": "execute_result"
    },
    {
     "data": {
      "image/png": "[encoded data removed]",
      "text/plain": [
       "<Figure size 720x432 with 1 Axes>"
      ]
     },
     "metadata": {
      "needs_background": "light"
     },
     "output_type": "display_data"
    }
   ],
   "source": [
    "plt.figure(figsize=(10,6))\n",
    "plt.plot(x_input,y_input,color='red',linewidth=3)\n",
    "plt.scatter(X[:,0],X[:,1],c=y,cmap='winter',s=100)\n",
    "plt.ylim(-3,2)"
   ]
  }
 ],
 "metadata": {
  "kernelspec": {
   "display_name": "Python 3 (ipykernel)",
   "language": "python",
   "name": "python3"
  },
  "language_info": {
   "codemirror_mode": {
    "name": "ipython",
    "version": 3
   },
   "file_extension": ".py",
   "mimetype": "text/x-python",
   "name": "python",
   "nbconvert_exporter": "python",
   "pygments_lexer": "ipython3",
   "version": "3.9.12"
  }
 },
 "nbformat": 4,
 "nbformat_minor": 5
}
